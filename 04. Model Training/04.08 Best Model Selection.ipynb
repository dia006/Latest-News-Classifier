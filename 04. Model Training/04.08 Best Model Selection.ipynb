{
 "cells": [
  {
   "cell_type": "markdown",
   "metadata": {},
   "source": [
    "# Best Model Selection"
   ]
  },
  {
   "cell_type": "markdown",
   "metadata": {},
   "source": [
    "Now that we have trained all the models, let's select the one we'll use for the application. We'll need to get the performance metrics generated in every model:"
   ]
  },
  {
   "cell_type": "code",
   "execution_count": 1,
   "metadata": {},
   "outputs": [],
   "source": [
    "import pickle\n",
    "import pandas as pd"
   ]
  },
  {
   "cell_type": "code",
   "execution_count": 2,
   "metadata": {},
   "outputs": [],
   "source": [
    "path_pickles = \"../04. Model Training/Models/\"\n",
    "\n",
    "list_pickles = [\n",
    "    \"df_models_gbc.pickle\",\n",
    "    \"df_models_knnc.pickle\",\n",
    "    \"df_models_lrc.pickle\",\n",
    "    \"df_models_mnbc.pickle\",\n",
    "    \"df_models_rfc.pickle\",\n",
    "    \"df_models_svc.pickle\"\n",
    "]\n",
    "\n",
    "df_summary = pd.DataFrame()\n",
    "\n",
    "for pickle_ in list_pickles:\n",
    "    \n",
    "    path = path_pickles + pickle_\n",
    "    \n",
    "    with open(path, 'rb') as data:\n",
    "        df = pickle.load(data)\n",
    "\n",
    "    df_summary = df_summary.append(df)\n",
    "\n",
    "df_summary = df_summary.reset_index().drop('index', axis=1)"
   ]
  },
  {
   "cell_type": "markdown",
   "metadata": {},
   "source": [
    "Let's see the summary and sort it by **Test Set Accuracy** and remove those that **overfit the training set**:"
   ]
  },
  {
   "cell_type": "code",
   "execution_count": 6,
   "metadata": {},
   "outputs": [
    {
     "output_type": "execute_result",
     "data": {
      "text/plain": "                     Model  Training Set Accuracy  Test Set Accuracy\n5                      SVM               0.959281           0.940120\n3  Multinomial Naïve Bayes               0.953993           0.934132\n1                      KNN               0.959810           0.928144",
      "text/html": "<div>\n<style scoped>\n    .dataframe tbody tr th:only-of-type {\n        vertical-align: middle;\n    }\n\n    .dataframe tbody tr th {\n        vertical-align: top;\n    }\n\n    .dataframe thead th {\n        text-align: right;\n    }\n</style>\n<table border=\"1\" class=\"dataframe\">\n  <thead>\n    <tr style=\"text-align: right;\">\n      <th></th>\n      <th>Model</th>\n      <th>Training Set Accuracy</th>\n      <th>Test Set Accuracy</th>\n    </tr>\n  </thead>\n  <tbody>\n    <tr>\n      <th>5</th>\n      <td>SVM</td>\n      <td>0.959281</td>\n      <td>0.940120</td>\n    </tr>\n    <tr>\n      <th>3</th>\n      <td>Multinomial Naïve Bayes</td>\n      <td>0.953993</td>\n      <td>0.934132</td>\n    </tr>\n    <tr>\n      <th>1</th>\n      <td>KNN</td>\n      <td>0.959810</td>\n      <td>0.928144</td>\n    </tr>\n  </tbody>\n</table>\n</div>"
     },
     "metadata": {},
     "execution_count": 6
    }
   ],
   "source": [
    "df_summary.sort_values('Test Set Accuracy', ascending=False)[df_summary[\"Training Set Accuracy\"]<0.98]"
   ]
  },
  {
   "cell_type": "code",
   "execution_count": null,
   "metadata": {},
   "outputs": [],
   "source": [
    "We will choose the **Support Vector Machine** since it has the highest Test Set Accuracy."
   ]
  }
 ],
 "metadata": {
  "kernelspec": {
   "display_name": "Python 3",
   "language": "python",
   "name": "python3"
  },
  "language_info": {
   "codemirror_mode": {
    "name": "ipython",
    "version": 3
   },
   "file_extension": ".py",
   "mimetype": "text/x-python",
   "name": "python",
   "nbconvert_exporter": "python",
   "pygments_lexer": "ipython3",
   "version": "3.7.7-final"
  }
 },
 "nbformat": 4,
 "nbformat_minor": 2
}